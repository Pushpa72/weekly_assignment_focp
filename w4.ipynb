{
 "cells": [
  {
   "cell_type": "code",
   "execution_count": 4,
   "id": "1f70a0fa-29ea-4c8f-a2dd-4c180ee0a444",
   "metadata": {},
   "outputs": [
    {
     "name": "stdin",
     "output_type": "stream",
     "text": [
      "enter an integer to check if its in range : -78\n"
     ]
    },
    {
     "name": "stdout",
     "output_type": "stream",
     "text": [
      "it is not in range of 0 to100\n"
     ]
    }
   ],
   "source": [
    "#1_integer_function\n",
    "def valid_integer(p):\n",
    "    return 0<= p <=100\n",
    "#totest\n",
    "p=int(input(\"enter an integer to check if its in range :\"))\n",
    "if valid_integer(p):\n",
    "    print(\"it is in range of 0 to100\")\n",
    "else:\n",
    "    print(\"it is not in range of 0 to100\")"
   ]
  },
  {
   "cell_type": "code",
   "execution_count": 4,
   "id": "99913092-a50a-4ddd-83c0-616e99b9d39f",
   "metadata": {},
   "outputs": [
    {
     "name": "stdout",
     "output_type": "stream",
     "text": [
      "uppercase letters : 2,lowercase letters:9\n"
     ]
    }
   ],
   "source": [
    "#2_upper_lower_case_function\n",
    "def count_up_low(string):\n",
    "    lowercase_count=0\n",
    "    uppercase_count=0\n",
    "    for letter in string:\n",
    "        if letter.isupper():\n",
    "            uppercase_count += 1\n",
    "        elif letter.islower():\n",
    "            lowercase_count += 1\n",
    "    return (uppercase_count,lowercase_count)\n",
    "#test \n",
    "test_string =\"Pushpa Rimal\"\n",
    "u,l=count_up_low(test_string)\n",
    "print(f\"uppercase letters : {u},lowercase letters:{l}\")\n",
    "\n",
    "    \n",
    "        "
   ]
  },
  {
   "cell_type": "code",
   "execution_count": 6,
   "id": "26fa793a-cf5f-48ae-af39-6decf57818cb",
   "metadata": {},
   "outputs": [
    {
     "name": "stdin",
     "output_type": "stream",
     "text": [
      "Hello,what is your name? PusHpA\n"
     ]
    },
    {
     "name": "stdout",
     "output_type": "stream",
     "text": [
      "Hello, Pushpa.Have a babal day!!\n"
     ]
    }
   ],
   "source": [
    "#3_capitalize_function \n",
    "user_name=input(\"Hello,what is your name?\")\n",
    "cap_name = user_name.capitalize()\n",
    "print(f\"Hello, {cap_name}.Have a babal day!!\")\n",
    "\n"
   ]
  },
  {
   "cell_type": "code",
   "execution_count": 8,
   "id": "af0ec3a5-63f2-459e-a607-201b137359ab",
   "metadata": {},
   "outputs": [
    {
     "name": "stdout",
     "output_type": "stream",
     "text": [
      "original :Pushp\n",
      "modified: Push\n"
     ]
    }
   ],
   "source": [
    "#4_function_removes_last charecter_of_string\n",
    "def remove_last_char(p):\n",
    "    if len(p)<=1:\n",
    "        return p\n",
    "    return p[:-1] #slicing\n",
    "#test\n",
    "test_name =\"Pushp\"\n",
    "output = remove_last_char(test_name)\n",
    "print(f\"original :{test_name}\")\n",
    "print(f\"modified: {output}\")\n"
   ]
  },
  {
   "cell_type": "code",
   "execution_count": 14,
   "id": "fb8b1560-872f-41a6-be9d-07bdaf7f48ed",
   "metadata": {},
   "outputs": [
    {
     "name": "stdout",
     "output_type": "stream",
     "text": [
      "180C is 356.0F\n",
      "180F is 82.22222222222223C\n"
     ]
    }
   ],
   "source": [
    "#5_conversion_f_c\n",
    "def celsious_to_fahrenheit(celsious):\n",
    "    fahrenheit=(celsious*9/5)+32\n",
    "    return fahrenheit\n",
    "def fahrenheit_to_celsious(fahren):\n",
    "    celsious=(fahren-32)*5/9\n",
    "    return celsious\n",
    "celsious=180\n",
    "fahren_result=celsious_to_fahrenheit(celsious)\n",
    "print(f\"{celsious}C is {fahren_result}F\")\n",
    "\n",
    "fahrenheit= 180\n",
    "celsious_result=fahrenheit_to_celsious(fahrenheit)\n",
    "print(f\"{fahrenheit}F is {celsious_result}C\")"
   ]
  },
  {
   "cell_type": "code",
   "execution_count": 19,
   "id": "4ee9a058-c396-4411-ab76-8fca4de390c4",
   "metadata": {},
   "outputs": [
    {
     "name": "stdin",
     "output_type": "stream",
     "text": [
      "enter temperature in celsious: 25\n"
     ]
    },
    {
     "name": "stdout",
     "output_type": "stream",
     "text": [
      "25.0C is 77.0F\n"
     ]
    }
   ],
   "source": [
    "#6_centrigrade_tofahrenheit\n",
    "celsious=float(input(\"enter temperature in celsious:\"))\n",
    "fahrenheit_value=(celsious *9/5)+32\n",
    "print(f\"{celsious}C is {fahrenheit_value}F\")\n"
   ]
  },
  {
   "cell_type": "code",
   "execution_count": 23,
   "id": "2c69cbbb-ff9c-4fc1-b048-cd052816238f",
   "metadata": {},
   "outputs": [
    {
     "name": "stdin",
     "output_type": "stream",
     "text": [
      "enter temperature 1: 25\n",
      "enter temperature 2: 30\n",
      "enter temperature 3: 22\n",
      "enter temperature 4: 28\n",
      "enter temperature 5: 20\n",
      "enter temperature 6: 35\n"
     ]
    },
    {
     "name": "stdout",
     "output_type": "stream",
     "text": [
      "maximum temperature : 35.0'c\n",
      "minimum temperature : 20.0'c\n",
      "mean temperature : 26.67'c\n"
     ]
    }
   ],
   "source": [
    "#7_6_temperature_max_min_sum\n",
    "temperature=[]\n",
    "for i in range(6):\n",
    "    temp_input=float(input(f\"enter temperature {i+1}:\"))\n",
    "    temperature.append(temp_input)\n",
    "\n",
    "max_temp=max(temperature)\n",
    "min_temp=min(temperature)\n",
    "mean_temp=sum(temperature)/len(temperature)\n",
    "\n",
    "print(f\"maximum temperature : {max_temp}'c\")\n",
    "print(f\"minimum temperature : {min_temp}'c\")\n",
    "print(f\"mean temperature : {mean_temp :.2f}'c\")\n",
    "    "
   ]
  },
  {
   "cell_type": "code",
   "execution_count": 25,
   "id": "b1a0be15-25f2-4ab5-95af-49edec02bb6d",
   "metadata": {},
   "outputs": [
    {
     "name": "stdin",
     "output_type": "stream",
     "text": [
      "enter temperature (or press Enter to finish):  23c\n"
     ]
    },
    {
     "name": "stdout",
     "output_type": "stream",
     "text": [
      "bruh.reenter\n"
     ]
    },
    {
     "name": "stdin",
     "output_type": "stream",
     "text": [
      "enter temperature (or press Enter to finish):  23\n",
      "enter temperature (or press Enter to finish):  45\n",
      "enter temperature (or press Enter to finish):  30\n",
      "enter temperature (or press Enter to finish):  23.0\n",
      "enter temperature (or press Enter to finish):  45.1\n",
      "enter temperature (or press Enter to finish):  \n"
     ]
    },
    {
     "name": "stdout",
     "output_type": "stream",
     "text": [
      "Maximum temperature: 45.1'C\n",
      "Minimum temperature: 23.0'C\n",
      "Mean temperature: 33.22'C\n"
     ]
    }
   ],
   "source": [
    "#8_ample_amounts_of_inoput\n",
    "temperatures = []\n",
    "\n",
    "while True:\n",
    "    temp_input = input(f\"enter temperature (or press Enter to finish): \")\n",
    "    \n",
    "    if temp_input == \"\":\n",
    "        break\n",
    "    \n",
    "    try:\n",
    "        temp_value = float(temp_input)\n",
    "        temperatures.append(temp_value)\n",
    "    except ValueError:\n",
    "        print(\"bruh.reenter\")\n",
    "\n",
    "if temperatures:\n",
    "    max_temp = max(temperatures)\n",
    "    min_temp = min(temperatures)\n",
    "    mean_temp = sum(temperatures) / len(temperatures)\n",
    "\n",
    "    print(f\"Maximum temperature: {max_temp}'C\")\n",
    "    print(f\"Minimum temperature: {min_temp}'C\")\n",
    "    print(f\"Mean temperature: {mean_temp:.2f}'C\")\n",
    "else:\n",
    "    print(\"blind or sum? no temperature were entered\")\n"
   ]
  },
  {
   "cell_type": "code",
   "execution_count": null,
   "id": "79148c37-c510-48cd-a2a0-848e3478258d",
   "metadata": {},
   "outputs": [],
   "source": []
  }
 ],
 "metadata": {
  "kernelspec": {
   "display_name": "Python 3 (ipykernel)",
   "language": "python",
   "name": "python3"
  },
  "language_info": {
   "codemirror_mode": {
    "name": "ipython",
    "version": 3
   },
   "file_extension": ".py",
   "mimetype": "text/x-python",
   "name": "python",
   "nbconvert_exporter": "python",
   "pygments_lexer": "ipython3",
   "version": "3.13.1"
  }
 },
 "nbformat": 4,
 "nbformat_minor": 5
}
