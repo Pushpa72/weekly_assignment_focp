{
 "cells": [
  {
   "cell_type": "code",
   "execution_count": 2,
   "id": "1ef5edc5-cf20-4faf-9a5c-c5987a93746f",
   "metadata": {},
   "outputs": [
    {
     "name": "stdout",
     "output_type": "stream",
     "text": [
      "[' ', 'a', 'd', 'e', 'g', 'i', 'l', 'n', 'o', 'r', 's', 't']\n"
     ]
    }
   ],
   "source": [
    "#1_sort_unique_letters\n",
    "def unique_letters(string):\n",
    "    return sorted(set(string))\n",
    "#test\n",
    "print(unique_letters(\"string to set and into list\"))"
   ]
  },
  {
   "cell_type": "code",
   "execution_count": 5,
   "id": "2eb61f3d-60fe-4f86-adcf-e972562e3ef5",
   "metadata": {},
   "outputs": [
    {
     "name": "stdout",
     "output_type": "stream",
     "text": [
      "Letters in both words: ['l']\n",
      "Letters in at least one of the words: ['e', 'f', 'i', 'l', 'o', 'y']\n",
      "Letters in either word, but not in both: ['e', 'f', 'i', 'o', 'y']\n"
     ]
    }
   ],
   "source": [
    "#2_sort_list\n",
    "def intersection_l(w1,w2):\n",
    "    return sorted(set(w1)&set(w2))\n",
    "\n",
    "def union_l(w1,w2):\n",
    "    return sorted(set(w1)|set(w2))\n",
    "\n",
    "def sdifferemce_l(w1,w2):\n",
    "    return sorted(set(w1) ^ set(w2))\n",
    "#test\n",
    "w1=\"yolo\"\n",
    "w2=\"life\"\n",
    "print(\"Letters in both words:\",intersection_l(w1,w2))\n",
    "print(\"Letters in at least one of the words:\",union_l(w1,w2))\n",
    "print(\"Letters in either word, but not in both:\",sdifferemce_l(w1,w2))"
   ]
  },
  {
   "cell_type": "code",
   "execution_count": 19,
   "id": "796f4a64-4b31-4a36-a2c2-64fa91fe3d54",
   "metadata": {},
   "outputs": [
    {
     "name": "stdin",
     "output_type": "stream",
     "text": [
      "enter a country (or'out' to exit): russia\n"
     ]
    },
    {
     "name": "stdout",
     "output_type": "stream",
     "text": [
      "the capital of Russia = Moscow.\n"
     ]
    },
    {
     "name": "stdin",
     "output_type": "stream",
     "text": [
      "enter a country (or'out' to exit): out\n"
     ]
    },
    {
     "name": "stdout",
     "output_type": "stream",
     "text": [
      "Sayonara!!\n"
     ]
    }
   ],
   "source": [
    "#3_manage_countries_capitalcities\n",
    "def manage_c():\n",
    "    countries_cap={\n",
    "        \"nepal\":\"kathmandu\",\n",
    "        \"russia\":\"moscow\",\n",
    "        \"canada\":\"ottawa\",\n",
    "        \"united states\":\"washington d.c\",\n",
    "        \"china\":\"beijing\",\n",
    "        \"brazil\":\"brasilia\",\n",
    "    }\n",
    "    while True:\n",
    "        cntry=input(\"enter a country (or'out' to exit):\").lower()\n",
    "        \n",
    "        if cntry=='out':\n",
    "            print(\"Sayonara!!\")\n",
    "            break\n",
    "       \n",
    "\n",
    "    \n",
    "        if cntry in countries_cap:\n",
    "            print(f\"the capital of {cntry.capitalize()} = {countries_cap[cntry].capitalize()}.\")\n",
    "        else:\n",
    "            capital = input(f\"oops!dk the capitalof{cntry.capitalize()}.fill in the info gang \").lower()\n",
    "            countries_cap[cntry] = capital\n",
    "            print(f\"Arigato!! The capital of {cntry.capitalize()} is now saved as {capital.capitalize()}.\")\n",
    "\n",
    "\n",
    "\n",
    "manage_c()\n",
    "    "
   ]
  },
  {
   "cell_type": "code",
   "execution_count": 24,
   "id": "a5a0d52b-30cf-4acb-8b2b-1e2dbf613426",
   "metadata": {},
   "outputs": [
    {
     "name": "stdout",
     "output_type": "stream",
     "text": [
      "letter:y,count:4\n",
      "letter: ,count:4\n",
      "letter:l,count:3\n",
      "letter:a,count:3\n",
      "letter:s,count:3\n",
      "letter:h,count:2\n"
     ]
    }
   ],
   "source": [
    "#4_string_represententing_msg_reports_six_common_letters\n",
    "def frequency_analysis(msg):\n",
    "    msg=msg.lower()\n",
    "    l_count={}\n",
    "    for char in msg:\n",
    "        if char in l_count:\n",
    "            l_count[char] += 1\n",
    "        else:\n",
    "            l_count[char] = 1\n",
    "    sourt_count = sorted(l_count.items(), key=lambda x: x[1], reverse=True)[:6]\n",
    "    return sourt_count\n",
    "msg =\"holymoly frequency analysis is hard\"\n",
    "result=frequency_analysis(msg)\n",
    "for letter,count in result:\n",
    "    print(f\"letter:{letter},count:{count}\")"
   ]
  },
  {
   "cell_type": "code",
   "execution_count": null,
   "id": "b922de17-dc75-4830-80fb-0082a18d8d07",
   "metadata": {},
   "outputs": [],
   "source": []
  }
 ],
 "metadata": {
  "kernelspec": {
   "display_name": "Python 3 (ipykernel)",
   "language": "python",
   "name": "python3"
  },
  "language_info": {
   "codemirror_mode": {
    "name": "ipython",
    "version": 3
   },
   "file_extension": ".py",
   "mimetype": "text/x-python",
   "name": "python",
   "nbconvert_exporter": "python",
   "pygments_lexer": "ipython3",
   "version": "3.13.1"
  }
 },
 "nbformat": 4,
 "nbformat_minor": 5
}
