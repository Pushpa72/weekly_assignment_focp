{
 "cells": [
  {
   "cell_type": "code",
   "execution_count": 4,
   "id": "16a48f26-570e-4c56-9d42-9521095820c4",
   "metadata": {},
   "outputs": [
    {
     "name": "stdout",
     "output_type": "stream",
     "text": [
      "10\n"
     ]
    }
   ],
   "source": [
    "#1_integer_To_decimal\n",
    "def intigerto_binary(p):\n",
    "    return bin(p)[2:]\n",
    "#test\n",
    "print(intigerto_binary(2))\n"
   ]
  },
  {
   "cell_type": "code",
   "execution_count": 6,
   "id": "f43d7432-84c9-4118-9e1b-57acfda7c2f1",
   "metadata": {},
   "outputs": [
    {
     "name": "stdout",
     "output_type": "stream",
     "text": [
      "[1, 5]\n"
     ]
    }
   ],
   "source": [
    "#2_factors_of_integer\n",
    "def factor(p):\n",
    "    factor = [i for i in range(1, p + 1) if p % i == 0]\n",
    "    return factor\n",
    "\n",
    "# Test\n",
    "print(factor(5))\n"
   ]
  },
  {
   "cell_type": "code",
   "execution_count": 10,
   "id": "6919db46-075c-49d9-b0de-3d691e77240e",
   "metadata": {},
   "outputs": [
    {
     "name": "stdout",
     "output_type": "stream",
     "text": [
      "True\n",
      "False\n"
     ]
    }
   ],
   "source": [
    "#3_find_prime_number\n",
    "def prime(p):\n",
    "    if p <= 1:\n",
    "        return False\n",
    "    for i in range(2,p):\n",
    "        if p % i == 0:\n",
    "            return False\n",
    "    return True\n",
    "\n",
    "# Test\n",
    "print(prime(5))\n",
    "print(prime(6)) \n"
   ]
  },
  {
   "cell_type": "code",
   "execution_count": 12,
   "id": "0744e1ae-0d8f-42f7-81b4-fe65365cf585",
   "metadata": {},
   "outputs": [
    {
     "name": "stdout",
     "output_type": "stream",
     "text": [
      "oamlskrowtiOLOY\n"
     ]
    }
   ],
   "source": [
    "#4_useof_encryption\n",
    "def f_encry(msg):\n",
    "    space=msg.replace(\" \",\"\")\n",
    "    return space[::-1]\n",
    "#test\n",
    "print(f_encry(\"YOLO it works lmao\"))\n"
   ]
  },
  {
   "cell_type": "code",
   "execution_count": 20,
   "id": "6c9b8c7d-a1d2-400e-848a-b0775e04ffb9",
   "metadata": {},
   "outputs": [
    {
     "name": "stdout",
     "output_type": "stream",
     "text": [
      "obfuscation message: quyavqvxwwjtylcbzyywkfbhfoormcrrvmngbrliyftmrymbjbxoptvmzygnqyzx loqbgfhashrelvhwbyyxgickuimejhxukbxisufljuizticotpde\n",
      "interval : 13\n"
     ]
    }
   ],
   "source": [
    "#5_obfuscation_random_text\n",
    "import random\n",
    "def obfu_msg(msg):\n",
    "    interval=random.randint(2,20) #interval create\n",
    "\n",
    "    encry_msg=\"\"\n",
    "    rdm_char='abcdefghijklmnopqrstuvwxyz'\n",
    "\n",
    "    for char in msg:\n",
    "        encry_msg +=''.join(random.choice(rdm_char) for _ in range(interval -1))\n",
    "        encry_msg +=char\n",
    "    return encry_msg,interval\n",
    "#test\n",
    "msg=\"yolo life\"\n",
    "encry_msg,interval=obfu_msg(msg)\n",
    "print(f\"obfuscation message: {encry_msg}\")\n",
    "print(f\"interval : {interval}\")\n",
    "    "
   ]
  },
  {
   "cell_type": "code",
   "execution_count": 31,
   "id": "519c700f-5176-49c9-9e55-0452720e4f6d",
   "metadata": {},
   "outputs": [
    {
     "name": "stdout",
     "output_type": "stream",
     "text": [
      "obfuscation message: dafybjmodqplxsuorrw tzcltekibzffgmre\n",
      "interval : 4\n",
      "decrypted messag: yolo life\n"
     ]
    }
   ],
   "source": [
    "#6_decrypts_messages_encoded_above\n",
    "import random\n",
    "def obfu_msg(msg):\n",
    "    interval=random.randint(2,20) #interval create\n",
    "\n",
    "    encry_msg=\"\"\n",
    "    rdm_char='abcdefghijklmnopqrstuvwxyz'\n",
    "\n",
    "    for char in msg:\n",
    "        encry_msg +=''.join(random.choice(rdm_char) for _ in range(interval -1))\n",
    "        encry_msg +=char\n",
    "    return encry_msg,interval\n",
    "\n",
    "    \n",
    "def decrypt_msg(encry_msg, interval):\n",
    "    decrypt_msg = encry_msg[interval - 1::interval]\n",
    "    return decrypt_msg\n",
    "\n",
    "\n",
    "msg=\"yolo life\"\n",
    "encry_msg,interval=obfu_msg(msg)\n",
    "print(f\"obfuscation message: {encry_msg}\")\n",
    "print(f\"interval : {interval}\")\n",
    "# Test\n",
    "decrypt_msg = decrypt_msg(encry_msg, interval)\n",
    "print(f\"decrypted messag: {decrypt_msg}\")  \n",
    "    "
   ]
  },
  {
   "cell_type": "code",
   "execution_count": null,
   "id": "10b799eb-0f30-4b4a-ba1e-afb48bbf4fa8",
   "metadata": {},
   "outputs": [],
   "source": []
  },
  {
   "cell_type": "code",
   "execution_count": null,
   "id": "c61181f9-bbfd-4d8c-a6fa-1e169ff5e11e",
   "metadata": {},
   "outputs": [],
   "source": []
  },
  {
   "cell_type": "code",
   "execution_count": null,
   "id": "1108bdb7-c312-44c3-82a8-12729635c8eb",
   "metadata": {},
   "outputs": [],
   "source": []
  }
 ],
 "metadata": {
  "kernelspec": {
   "display_name": "Python 3 (ipykernel)",
   "language": "python",
   "name": "python3"
  },
  "language_info": {
   "codemirror_mode": {
    "name": "ipython",
    "version": 3
   },
   "file_extension": ".py",
   "mimetype": "text/x-python",
   "name": "python",
   "nbconvert_exporter": "python",
   "pygments_lexer": "ipython3",
   "version": "3.13.1"
  }
 },
 "nbformat": 4,
 "nbformat_minor": 5
}
