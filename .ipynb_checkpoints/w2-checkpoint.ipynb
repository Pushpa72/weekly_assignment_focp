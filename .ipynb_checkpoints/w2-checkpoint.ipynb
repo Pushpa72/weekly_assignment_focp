{
 "cells": [
  {
   "cell_type": "code",
   "execution_count": 6,
   "id": "b77116cc-cecf-4779-a8ed-0bc3dfd249b5",
   "metadata": {},
   "outputs": [
    {
     "name": "stdin",
     "output_type": "stream",
     "text": [
      "Hello,what is yourname? mr apricot\n"
     ]
    },
    {
     "name": "stdout",
     "output_type": "stream",
     "text": [
      "Hello,mr apricot.Good to meet you!\n"
     ]
    }
   ],
   "source": [
    "user_name=input(\"Hello,what is yourname?\")\n",
    "print(f\"Hello,{user_name}.Good to meet you!\")\n"
   ]
  },
  {
   "cell_type": "code",
   "execution_count": 2,
   "id": "5b3e34fa-83d5-4adc-95d2-cd760fd2e6e1",
   "metadata": {},
   "outputs": [
    {
     "name": "stdin",
     "output_type": "stream",
     "text": [
      "Enter a temperature in Celsius:  32.5\n"
     ]
    },
    {
     "name": "stdout",
     "output_type": "stream",
     "text": [
      "32.5C is equivalent to 90.5F.\n"
     ]
    }
   ],
   "source": [
    "#2_converting_temperature\n",
    "tem_celsius=float(input(\"Enter a temperature in Celsius: \"))\n",
    "print(f\"{tem_celsius}C is equivalent to {(tem_celsius * 9 / 5) + 32}F.\")\n"
   ]
  },
  {
   "cell_type": "code",
   "execution_count": 3,
   "id": "2de1c5e9-4c34-469f-87ed-c3398f62d4b9",
   "metadata": {},
   "outputs": [
    {
     "name": "stdin",
     "output_type": "stream",
     "text": [
      "How many students? 113\n",
      "Required group size? 22\n"
     ]
    },
    {
     "name": "stdout",
     "output_type": "stream",
     "text": [
      "there will be 5 groups with  3 students left over.\n"
     ]
    }
   ],
   "source": [
    "#3_dividing_lab_groups\n",
    "num_students=int(input(\"How many students?\"))\n",
    "group_size=int(input(\"Required group size?\"))\n",
    "print(f\"there will be {num_students//group_size} groups with  {num_students%group_size} students left over.\")\n"
   ]
  },
  {
   "cell_type": "code",
   "execution_count": 4,
   "id": "24793a62-1bba-4ec2-b7eb-adc5a1a69f06",
   "metadata": {},
   "outputs": [
    {
     "name": "stdin",
     "output_type": "stream",
     "text": [
      "How many sweets are available? 78\n",
      "How many pupils attended the class? 31\n"
     ]
    },
    {
     "name": "stdout",
     "output_type": "stream",
     "text": [
      "Each student will get 2 sweets and there will be 16 sweets left over.\n"
     ]
    }
   ],
   "source": [
    "#4_distribute_tub_of_sweets\n",
    "num_sweets=int(input(\"How many sweets are available?\"))\n",
    "num_students=int(input(\"How many pupils attended the class?\"))\n",
    "print(f\"Each student will get {num_sweets//num_students} sweets and there will be {num_sweets%num_students} sweets left over.\")\n"
   ]
  }
 ],
 "metadata": {
  "kernelspec": {
   "display_name": "Python 3 (ipykernel)",
   "language": "python",
   "name": "python3"
  },
  "language_info": {
   "codemirror_mode": {
    "name": "ipython",
    "version": 3
   },
   "file_extension": ".py",
   "mimetype": "text/x-python",
   "name": "python",
   "nbconvert_exporter": "python",
   "pygments_lexer": "ipython3",
   "version": "3.13.1"
  }
 },
 "nbformat": 4,
 "nbformat_minor": 5
}
