{
 "cells": [
  {
   "cell_type": "code",
   "execution_count": 1,
   "id": "83dd041d-2de8-4cac-a44c-d00a4499e57c",
   "metadata": {},
   "outputs": [
    {
     "name": "stdin",
     "output_type": "stream",
     "text": [
      "Hello,what is yourname? \n"
     ]
    },
    {
     "name": "stdout",
     "output_type": "stream",
     "text": [
      "hello,Stranger\n"
     ]
    },
    {
     "name": "stdin",
     "output_type": "stream",
     "text": [
      "enter the pasword\n",
      " 234\n",
      "reenter the pasword\n",
      " 456\n"
     ]
    },
    {
     "name": "stdout",
     "output_type": "stream",
     "text": [
      "pasword not set\n"
     ]
    }
   ],
   "source": [
    "#1_modifying_greeting_program\n",
    "user_name=input(\"Hello,what is yourname?\")\n",
    "print(f\"hello,{user_name if user_name else \"Stranger\"}\")\n",
    "\n",
    "#2_setting_password\n",
    "def set_pasword():\n",
    "    pass1=input(\"enter the pasword\\n\")\n",
    "    pass2=input(\"reenter the pasword\\n\")\n",
    "    if pass1==pass2:\n",
    "        print(\"pasword set\")\n",
    "    else:\n",
    "        print(\"pasword not set\")\n",
    "set_pasword()"
   ]
  },
  {
   "cell_type": "code",
   "execution_count": 15,
   "id": "95783d54-c80e-4da1-b4bf-e603fb499377",
   "metadata": {},
   "outputs": [
    {
     "name": "stdin",
     "output_type": "stream",
     "text": [
      "enter the pasword of 8-12 characters\n",
      " 12345\n"
     ]
    },
    {
     "name": "stdout",
     "output_type": "stream",
     "text": [
      "PLEaSE read the instruction again and enter the pasword\n"
     ]
    }
   ],
   "source": [
    "#3_incoparating_len\n",
    "def set_pasword():\n",
    "    pass1=input(\"enter the pasword of 8-12 characters\\n\")\n",
    "    if len(pass1)<8 or len(pass1)>12 :\n",
    "      print(\"PLEaSE read the instruction again and enter the pasword\")\n",
    "      return\n",
    "    pass2=input(\"reenter the pasword\\n\")\n",
    "    if pass1==pass2:\n",
    "        print(\"pasword set\")\n",
    "    else:\n",
    "        print(\"pasword donot match PLEASE enter same password\")\n",
    "\n",
    "set_pasword()\n"
   ]
  },
  {
   "cell_type": "code",
   "execution_count": 21,
   "id": "9b676de5-8f40-43ac-b8fb-622613e6cac5",
   "metadata": {},
   "outputs": [
    {
     "name": "stdin",
     "output_type": "stream",
     "text": [
      "enter the pasword of 8-12 characters\n",
      " hello\n"
     ]
    },
    {
     "name": "stdout",
     "output_type": "stream",
     "text": [
      "the password comes under BAD password,BE MORE CREATIVE!!\n"
     ]
    }
   ],
   "source": [
    "#4_list_of_common_passwords\n",
    "def set_pasword():\n",
    "    pass1=input(\"enter the pasword of 8-12 characters\\n\")\n",
    "    if pass1 in BAD_PASSWORDS :\n",
    "        print(\"the password comes under BAD password,BE MORE CREATIVE!!\")\n",
    "        return\n",
    "    if len(pass1)<8 or len(pass1)>12 :\n",
    "      print(\"PLEaSE read the instruction again and enter the pasword\")\n",
    "      return\n",
    "    pass2=input(\"reenter the pasword\\n\")\n",
    "    if pass1==pass2:\n",
    "        print(\"pasword set\")\n",
    "    else:\n",
    "        print(\"pasword donot match PLEASE enter same password\")\n",
    "BAD_PASSWORDS = ['password', 'letmein', 'sesame', 'hello', 'justinbieber']\n",
    "set_pasword()"
   ]
  },
  {
   "cell_type": "code",
   "execution_count": 28,
   "id": "81c9ed34-ec86-4bdd-9d6f-b9035fa3d690",
   "metadata": {},
   "outputs": [
    {
     "name": "stdin",
     "output_type": "stream",
     "text": [
      "enter the pasword of 8-12 characters\n",
      " 123\n"
     ]
    },
    {
     "name": "stdout",
     "output_type": "stream",
     "text": [
      "insufficient length\n"
     ]
    },
    {
     "name": "stdin",
     "output_type": "stream",
     "text": [
      "enter the pasword of 8-12 characters\n",
      " letmein\n"
     ]
    },
    {
     "name": "stdout",
     "output_type": "stream",
     "text": [
      "reserved password be more creative\n"
     ]
    },
    {
     "name": "stdin",
     "output_type": "stream",
     "text": [
      "enter the pasword of 8-12 characters\n",
      " pushpa67\n",
      "reenter the pasword\n",
      " pushpa\n"
     ]
    },
    {
     "name": "stdout",
     "output_type": "stream",
     "text": [
      "pasword donot match PLEASE enter same password\n"
     ]
    },
    {
     "name": "stdin",
     "output_type": "stream",
     "text": [
      "enter the pasword of 8-12 characters\n",
      " pushpa67\n",
      "reenter the pasword\n",
      " pushpa67\n"
     ]
    },
    {
     "name": "stdout",
     "output_type": "stream",
     "text": [
      "pasword set\n"
     ]
    }
   ],
   "source": [
    "#5_incoporating_all_the_component\n",
    "BAD_PASSWORDS = ['password', 'letmein', 'sesame', 'hello', 'justinbieber']\n",
    "def set_pasword():\n",
    "    while True:\n",
    "        pass1=input(\"enter the pasword of 8-12 characters\\n\")\n",
    "        if pass1 in BAD_PASSWORDS :\n",
    "            print(\"reserved password be more creative\")\n",
    "            continue\n",
    "        if len(pass1)<8 or len(pass1)>12 :\n",
    "          print(\"insufficient length\")\n",
    "          continue\n",
    "        pass2=input(\"reenter the pasword\\n\")\n",
    "        if pass1==pass2:\n",
    "            print(\"pasword set\")\n",
    "            break\n",
    "        else:\n",
    "            print(\"pasword donot match PLEASE enter same password\")\n",
    "    \n",
    "set_pasword()\n"
   ]
  },
  {
   "cell_type": "code",
   "execution_count": 2,
   "id": "4f1bd13b-6701-4551-95ba-4be069984569",
   "metadata": {},
   "outputs": [
    {
     "name": "stdout",
     "output_type": "stream",
     "text": [
      "0*7=0\n",
      "1*7=7\n",
      "2*7=14\n",
      "3*7=21\n",
      "4*7=28\n",
      "5*7=35\n",
      "6*7=42\n",
      "7*7=49\n",
      "8*7=56\n",
      "9*7=63\n",
      "10*7=70\n",
      "11*7=77\n",
      "12*7=84\n"
     ]
    }
   ],
   "source": [
    "#6_Seven_Times_Table\n",
    "for i in range(13):\n",
    "    print(f\"{i}*7={i*7}\")"
   ]
  },
  {
   "cell_type": "code",
   "execution_count": 8,
   "id": "2baf675b-931d-459d-8934-e7f9077922fd",
   "metadata": {},
   "outputs": [
    {
     "name": "stdin",
     "output_type": "stream",
     "text": [
      "enter the number that you wish to have the table of : 69\n"
     ]
    },
    {
     "name": "stdout",
     "output_type": "stream",
     "text": [
      "0*69=0\n",
      "1*69=69\n",
      "2*69=138\n",
      "3*69=207\n",
      "4*69=276\n",
      "5*69=345\n",
      "6*69=414\n",
      "7*69=483\n",
      "8*69=552\n",
      "9*69=621\n",
      "10*69=690\n",
      "11*69=759\n",
      "12*69=828\n"
     ]
    }
   ],
   "source": [
    "#7_times_table\n",
    "numt=int(input(\"enter the number that you wish to have the table of :\"))\n",
    "for i in range(13):\n",
    "    print(f\"{i}*{numt}={i*numt}\")"
   ]
  },
  {
   "cell_type": "code",
   "execution_count": 12,
   "id": "4cccd3e9-cb51-4977-8be0-421a3d0e0f1e",
   "metadata": {},
   "outputs": [
    {
     "name": "stdin",
     "output_type": "stream",
     "text": [
      "enter the number that you wish to have the table of: -7\n"
     ]
    },
    {
     "name": "stdout",
     "output_type": "stream",
     "text": [
      "12*-7=-84\n",
      "11*-7=-77\n",
      "10*-7=-70\n",
      "9*-7=-63\n",
      "8*-7=-56\n",
      "7*-7=-49\n",
      "6*-7=-42\n",
      "5*-7=-35\n",
      "4*-7=-28\n",
      "3*-7=-21\n",
      "2*-7=-14\n",
      "1*-7=-7\n",
      "0*-7=0\n"
     ]
    }
   ],
   "source": [
    "#8_negative_times_table\n",
    "numt=int(input(\"enter the number that you wish to have the table of:\"))\n",
    "if numt<0:\n",
    "    for i in range(12,-1,-1):\n",
    "        print(f\"{i}*{numt}={i*numt}\")\n",
    "else:\n",
    "    for i in range(13):\n",
    "        print(f\"{i}*{numt}={i*numt}\")\n",
    "    \n",
    "    \n",
    "    "
   ]
  },
  {
   "cell_type": "code",
   "execution_count": null,
   "id": "ab3dfdeb-b0e4-4815-989b-1214dca8721a",
   "metadata": {},
   "outputs": [],
   "source": []
  }
 ],
 "metadata": {
  "kernelspec": {
   "display_name": "Python 3 (ipykernel)",
   "language": "python",
   "name": "python3"
  },
  "language_info": {
   "codemirror_mode": {
    "name": "ipython",
    "version": 3
   },
   "file_extension": ".py",
   "mimetype": "text/x-python",
   "name": "python",
   "nbconvert_exporter": "python",
   "pygments_lexer": "ipython3",
   "version": "3.13.1"
  }
 },
 "nbformat": 4,
 "nbformat_minor": 5
}
